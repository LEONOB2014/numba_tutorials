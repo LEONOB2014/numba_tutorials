{
 "cells": [
  {
   "cell_type": "markdown",
   "metadata": {},
   "source": [
    "# Numba series part 2: Custom data types and parallelization\n",
    "\n",
    "This is the second part of my little series about the Numba library. This time we will take a look on how we can use custom data types inside of functions we like to get optimized by Numba. Out-of-the-box Numba can handle scalars and n-dimensional Numpy arrays as input. Tuples and lists are also supported but lists for example have to be strictly homogeneous (even integers and floats in one list are not supported). As we have seen in the [last part](https://kratzert.github.io/2017/09/21/numba-series-part-1-the-jit-decorator-and-some-more-numba-basics.html) Pythons dictionaries are not supported. I personally like dictonaries and their key-indexing and find them really useful in many occasions. Luckily there is a way, how we can use something similar inside a Numba optimized function: `numpy.dtype()`\n",
    "To be honest, I never used this feature of the amazing Numpy library before, but here it comes quite handy. If you, as me before, don't know it already: You can use `numpy.dtype()` to specify custom types with key/value pairs, quite similar to dictionaries and these can be used inside Numba optimized functions. \n",
    "\n",
    "In the same occasion we will take a first look on parallelization.\n",
    "\n",
    "Let's have a look how we can do this."
   ]
  },
  {
   "cell_type": "code",
   "execution_count": 1,
   "metadata": {
    "collapsed": true
   },
   "outputs": [],
   "source": [
    "import timeit\n",
    "import numpy as np\n",
    "\n",
    "from numba import jit, prange"
   ]
  },
  {
   "cell_type": "markdown",
   "metadata": {},
   "source": [
    "Let's use the hydrological ABC-Model again (see the [introductory article](https://kratzert.github.io/2017/09/12/introduction-to-the-numba-library.html) for a more detailed explanation), we tried to use with Python dictionaries without success in last part. Remember that this model has three different model parameters (a, b, c) we need to pass for a simulation.\n",
    "\n",
    "First we have to create a custom type with Numpy ([here](https://docs.scipy.org/doc/numpy-1.13.0/reference/arrays.dtypes.html) is the official documentation for this feature). For this we can pass a list of tuples to the `np.dtype()` function, where each tuple specifies the name of a field and the data type of the elements in this field. Here we will create three fields, one for each parameter."
   ]
  },
  {
   "cell_type": "code",
   "execution_count": 2,
   "metadata": {},
   "outputs": [
    {
     "data": {
      "text/plain": [
       "dtype([('a', '<f8'), ('b', '<f8'), ('c', '<f8')])"
      ]
     },
     "execution_count": 2,
     "metadata": {},
     "output_type": "execute_result"
    }
   ],
   "source": [
    "abc_dtype = np.dtype([('a', np.float64),\n",
    "                      ('b', np.float64),\n",
    "                      ('c', np.float64)])\n",
    "\n",
    "abc_dtype"
   ]
  },
  {
   "cell_type": "markdown",
   "metadata": {},
   "source": [
    "This can now be used like any of the build-in dtypes for any of the Numpy functions. Like creating an empty array filled with zeros."
   ]
  },
  {
   "cell_type": "code",
   "execution_count": 3,
   "metadata": {},
   "outputs": [
    {
     "data": {
      "text/plain": [
       "array([( 0.,  0.,  0.), ( 0.,  0.,  0.), ( 0.,  0.,  0.)],\n",
       "      dtype=[('a', '<f8'), ('b', '<f8'), ('c', '<f8')])"
      ]
     },
     "execution_count": 3,
     "metadata": {},
     "output_type": "execute_result"
    }
   ],
   "source": [
    "arr = np.zeros(3, dtype=abc_dtype)\n",
    "arr"
   ]
  },
  {
   "cell_type": "markdown",
   "metadata": {},
   "source": [
    "We now have created an array of length three filled with zeros, where each entry consists of three values. As for dictionaries we can access any of the fields with their name and specify the index as for any Numpy array. E.g. the first value of the parameter `a` can be accessed by:"
   ]
  },
  {
   "cell_type": "code",
   "execution_count": 4,
   "metadata": {},
   "outputs": [
    {
     "data": {
      "text/plain": [
       "array([( 1.,  0.,  0.), ( 0.,  0.,  0.), ( 0.,  0.,  0.)],\n",
       "      dtype=[('a', '<f8'), ('b', '<f8'), ('c', '<f8')])"
      ]
     },
     "execution_count": 4,
     "metadata": {},
     "output_type": "execute_result"
    }
   ],
   "source": [
    "arr['a'][0] = 1\n",
    "arr"
   ]
  },
  {
   "cell_type": "markdown",
   "metadata": {
    "collapsed": true
   },
   "source": [
    "Okay, now let's adapt the ABC-Model a little bit, so that we can pass multiple sets of model parameters as input and receive one time series of simulated stream flow for each parameter set. This also sounds like we could parallelize this job, since each simulation can be made independent of the others. The documentation says [here](http://numba.pydata.org/numba-doc/0.35.0/user/parallel.html) that the parallelization feature is still experimental, so this might change in future but for version 0.35 we have two different methods how we can tell Numba to parallelize parts of our code - implicit and explicit.\n",
    "\n",
    "- `implicit` means, that we just pass another flag to the `@jit` decorator, namely `parallel=True`.\n",
    "- for-loops can be marked `explicitly` to be parallelized by using another function of the Numba library - the `prange` function. This can be used like Pythons `range` but tells Numba that this loop can be parallelized. If you want to use `prange` you have to make sure, that there are no cross iteration dependencies.\n",
    "\n",
    "Okay now lets implement four different versions of the ABC-Model, which all take multiple sets of parameters as inputs using our custom dtype. As reference we implement one version, that won't be optimized by Numba, to compare the speed to a pure Python implementation. A second version will use the `@jit` decorator but no parallelization. The third uses `implicit` parallelization and the fourth `explicit` parallelization."
   ]
  },
  {
   "cell_type": "code",
   "execution_count": 5,
   "metadata": {},
   "outputs": [],
   "source": [
    "# Reference implementation without Numba optimization\n",
    "def abc_model_py(params, rain):\n",
    "    # initialize model variables\n",
    "    outflow = np.zeros((rain.size, params.size), dtype=np.float64)\n",
    "\n",
    "    # loop over parameter sets\n",
    "    for i in range(params.size):\n",
    "        # unpack model parameters\n",
    "        a = params['a'][i]\n",
    "        b = params['b'][i]\n",
    "        c = params['c'][i]\n",
    "        \n",
    "        # Reset model states\n",
    "        state_in = 0\n",
    "        state_out = 0\n",
    "        \n",
    "        # Actual simulation loop\n",
    "        for j in range(rain.size):\n",
    "            state_out = (1 - c) * state_in + a * rain[j]\n",
    "            outflow[j,i] = (1 - a - b) * rain[j] + c * state_in\n",
    "            state_in = state_out\n",
    "    return outflow\n",
    "\n",
    "# Jit'ed but not parallelized implementation\n",
    "@jit(nopython=True)\n",
    "def abc_model_jit(params, rain):\n",
    "    # initialize model variables\n",
    "    outflow = np.zeros((rain.size, params.size), dtype=np.float64)\n",
    "\n",
    "    # loop over parameter sets\n",
    "    for i in range(params.size):\n",
    "        # unpack model parameters\n",
    "        a = params['a'][i]\n",
    "        b = params['b'][i]\n",
    "        c = params['c'][i]\n",
    "        \n",
    "        # Reset model states\n",
    "        state_in = 0\n",
    "        state_out = 0\n",
    "        \n",
    "        # Actual simulation loop\n",
    "        for j in range(rain.size):\n",
    "            state_out = (1 - c) * state_in + a * rain[j]\n",
    "            outflow[j,i] = (1 - a - b) * rain[j] + c * state_in\n",
    "            state_in = state_out\n",
    "    return outflow\n",
    "\n",
    "# Implementation with implicit parallelization\n",
    "@jit(nopython=True, parallel=True)\n",
    "def abc_model_impl(params, rain):\n",
    "    # initialize model variables\n",
    "    outflow = np.zeros((rain.size, params.size), dtype=np.float64)\n",
    "\n",
    "    # loop over parameter sets\n",
    "    for i in range(params.size):\n",
    "        # unpack model parameters\n",
    "        a = params['a'][i]\n",
    "        b = params['b'][i]\n",
    "        c = params['c'][i]\n",
    "        \n",
    "        # Reset model states\n",
    "        state_in = 0\n",
    "        state_out = 0\n",
    "        \n",
    "        # Actual simulation loop\n",
    "        for j in range(rain.size):\n",
    "            state_out = (1 - c) * state_in + a * rain[j]\n",
    "            outflow[j,i] = (1 - a - b) * rain[j] + c * state_in\n",
    "            state_in = state_out\n",
    "    return outflow\n",
    "\n",
    "# Implementation with explicit parallelization (see prange in 1st loop)\n",
    "@jit(nopython=True, parallel=True)\n",
    "def abc_model_expl(params, rain):\n",
    "    # initialize model variables\n",
    "    outflow = np.zeros((rain.size, params.size), dtype=np.float64)\n",
    "\n",
    "    # loop over parameter sets\n",
    "    for i in prange(params.size):\n",
    "        # unpack model parameters\n",
    "        a = params['a'][i]\n",
    "        b = params['b'][i]\n",
    "        c = params['c'][i]\n",
    "        \n",
    "        # Reset model states\n",
    "        state_in = 0\n",
    "        state_out = 0\n",
    "        \n",
    "        # Actual simulation loop\n",
    "        for j in range(rain.size):\n",
    "            state_out = (1 - c) * state_in + a * rain[j]\n",
    "            outflow[j,i] = (1 - a - b) * rain[j] + c * state_in\n",
    "            state_in = state_out\n",
    "    return outflow"
   ]
  },
  {
   "cell_type": "markdown",
   "metadata": {},
   "source": [
    "Okay now we gonna generate random model parameters and a random array of precipitation. Also look how we can use our numpy data type here in combination with the `astype()` function."
   ]
  },
  {
   "cell_type": "code",
   "execution_count": 6,
   "metadata": {
    "collapsed": true
   },
   "outputs": [],
   "source": [
    "params = np.random.random(8).astype(abc_dtype)\n",
    "rain = np.random.random(10**6)"
   ]
  },
  {
   "cell_type": "markdown",
   "metadata": {},
   "source": [
    "Now we gonna use the `timeit` module to compare the runtimes of each of the four implementations."
   ]
  },
  {
   "cell_type": "code",
   "execution_count": 7,
   "metadata": {},
   "outputs": [
    {
     "name": "stdout",
     "output_type": "stream",
     "text": [
      "7.63 s ± 59.3 ms per loop (mean ± std. dev. of 7 runs, 1 loop each)\n"
     ]
    }
   ],
   "source": [
    "time_py = %timeit -o abc_model_py(params, rain)"
   ]
  },
  {
   "cell_type": "code",
   "execution_count": 8,
   "metadata": {},
   "outputs": [
    {
     "name": "stdout",
     "output_type": "stream",
     "text": [
      "66.9 ms ± 2.23 ms per loop (mean ± std. dev. of 7 runs, 1 loop each)\n"
     ]
    }
   ],
   "source": [
    "time_jit = %timeit -o abc_model_jit(params, rain)"
   ]
  },
  {
   "cell_type": "code",
   "execution_count": 9,
   "metadata": {},
   "outputs": [
    {
     "name": "stdout",
     "output_type": "stream",
     "text": [
      "54.8 ms ± 329 µs per loop (mean ± std. dev. of 7 runs, 1 loop each)\n"
     ]
    }
   ],
   "source": [
    "time_impl = %timeit -o abc_model_impl(params, rain)"
   ]
  },
  {
   "cell_type": "code",
   "execution_count": 10,
   "metadata": {},
   "outputs": [
    {
     "name": "stdout",
     "output_type": "stream",
     "text": [
      "22.3 ms ± 1.67 ms per loop (mean ± std. dev. of 7 runs, 1 loop each)\n"
     ]
    }
   ],
   "source": [
    "time_expl = %timeit -o abc_model_expl(params, rain)"
   ]
  },
  {
   "cell_type": "code",
   "execution_count": 11,
   "metadata": {},
   "outputs": [
    {
     "data": {
      "text/plain": [
       "402.9802136214722"
      ]
     },
     "execution_count": 11,
     "metadata": {},
     "output_type": "execute_result"
    }
   ],
   "source": [
    "time_py.best/time_expl.best"
   ]
  },
  {
   "cell_type": "markdown",
   "metadata": {},
   "source": [
    "Between the pure Python version and the explicit parallelized version there is roughly a 400 x time difference! And through explicit parallelization we could improve the runtime by a factor of 3, while implicit parallelization only gave us a minor speed up for this function. The numbers above come from running this code on a Intel Xeon(R) CPU E5-1620 v3 @ 3.50GHz × 8. \n",
    "\n",
    "Since with parallel computation weired stuff can happen, let's also make sure all function outputs are identical."
   ]
  },
  {
   "cell_type": "code",
   "execution_count": 12,
   "metadata": {
    "collapsed": true
   },
   "outputs": [],
   "source": [
    "outflow_py = abc_model_py(params, rain)\n",
    "outflow_jit = abc_model_jit(params, rain)\n",
    "outflow_impl = abc_model_impl(params, rain)\n",
    "outflow_expl = abc_model_expl(params, rain)"
   ]
  },
  {
   "cell_type": "code",
   "execution_count": 13,
   "metadata": {},
   "outputs": [
    {
     "name": "stdout",
     "output_type": "stream",
     "text": [
      "All output matrices are identical.\n"
     ]
    }
   ],
   "source": [
    "if (np.array_equal(outflow_py, outflow_jit) and\n",
    "    np.array_equal(outflow_py, outflow_impl) and\n",
    "    np.array_equal(outflow_py, outflow_expl)):\n",
    "    print(\"All output matrices are identical.\")"
   ]
  },
  {
   "cell_type": "markdown",
   "metadata": {},
   "source": [
    "Okay so that's it for now. I hope this post helps you to understand how custom Numpy data types can be used in combination with the Numba library and how you can make Numba parallelize your code to gain additional speedups"
   ]
  }
 ],
 "metadata": {
  "kernelspec": {
   "display_name": "Python 3",
   "language": "python",
   "name": "python3"
  },
  "language_info": {
   "codemirror_mode": {
    "name": "ipython",
    "version": 3
   },
   "file_extension": ".py",
   "mimetype": "text/x-python",
   "name": "python",
   "nbconvert_exporter": "python",
   "pygments_lexer": "ipython3",
   "version": "3.6.2"
  }
 },
 "nbformat": 4,
 "nbformat_minor": 2
}
